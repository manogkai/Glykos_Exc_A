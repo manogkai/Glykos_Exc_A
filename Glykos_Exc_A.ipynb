{
  "nbformat": 4,
  "nbformat_minor": 0,
  "metadata": {
    "colab": {
      "provenance": []
    },
    "kernelspec": {
      "name": "python3",
      "display_name": "Python 3"
    },
    "language_info": {
      "name": "python"
    }
  },
  "cells": [
    {
      "cell_type": "code",
      "execution_count": 34,
      "metadata": {
        "colab": {
          "base_uri": "https://localhost:8080/"
        },
        "id": "KkN24njvPcOb",
        "outputId": "d344cf37-2eef-4987-8778-1b9b21cedf90"
      },
      "outputs": [
        {
          "output_type": "stream",
          "name": "stdout",
          "text": [
            "AUGATGGCTGGATTACCGTATATGCTTACGATCTATGGAAGTCATGTGGAAGCTTAA\n"
          ]
        }
      ],
      "source": [
        "def is_sequence(list):\n",
        "  size = len(seq)\n",
        "  codon_in = (\"AUG\")\n",
        "  codon_out1 = (\"TAA\")\n",
        "  codon_out2 = (\"TAG\")\n",
        "  codon_out3 = (\"TGA\")\n",
        "  c_codon = ()\n",
        "  start = 0\n",
        "  end = 0\n",
        "  count = 0\n",
        "  for i in range(size - 2):\n",
        "    c_codon = seq[i:i+3]\n",
        "    if c_codon == codon_in:\n",
        "      start = i\n",
        "    if c_codon in [codon_out1, codon_out2, codon_out3]:\n",
        "      end = i + 2\n",
        "      count += 1\n",
        "  if count == 1:\n",
        "    print(seq[start:end+1])\n",
        "  else:\n",
        "    print(\"The sequence is not  typical, there are\", count, \"end codons in total\")\n",
        "\n",
        "\n",
        "#seq = \"AAAUGATGGCTGGATTACCGTATATAATGCTTACGATCTATGGAAGTCATGTGGAAGCTTAATTT\"\n",
        "seq = \"AAAUGATGGCTGGATTACCGTATATGCTTACGATCTATGGAAGTCATGTGGAAGCTTAATTT\"\n",
        "is_sequence(seq)\n",
        "\n"
      ]
    }
  ]
}